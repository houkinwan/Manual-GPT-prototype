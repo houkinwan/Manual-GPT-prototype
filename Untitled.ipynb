{
 "cells": [
  {
   "cell_type": "code",
   "execution_count": 5,
   "id": "6257b124",
   "metadata": {},
   "outputs": [],
   "source": [
    "import numpy as np\n",
    "import pandas as pd\n",
    "\n",
    "import pickle\n",
    "import os\n",
    "import json\n",
    "import PyPDF2 as pdf\n",
    "from PyPDF2 import PdfReader\n",
    "from progress.bar import Bar\n",
    "import re\n",
    "from tqdm import tqdm\n",
    "import openai\n",
    "import time\n",
    "import warnings\n",
    "import sys\n",
    "warnings.filterwarnings('ignore')\n",
    "from openai.embeddings_utils import get_embedding\n",
    "from IPython.display import clear_output"
   ]
  },
  {
   "cell_type": "code",
   "execution_count": 22,
   "id": "865140e3",
   "metadata": {},
   "outputs": [
    {
     "name": "stdout",
     "output_type": "stream",
     "text": [
      "To delete 1 and 3 and 6, key in: 1,3,6\n"
     ]
    },
    {
     "data": {
      "text/plain": [
       "True"
      ]
     },
     "execution_count": 22,
     "metadata": {},
     "output_type": "execute_result"
    }
   ],
   "source": [
    "print(\"To delete 1 and 3 and 6, key in: 1,3,6\")\n",
    "deletes = \"1,2,3\"\n",
    "\n",
    "if ''.join(deletes.split(\",\")).isnumeric():\n",
    "    \n",
    "    delete_list = [int(i) for i in deletes.split(\",\")]\n",
    "    delete_list"
   ]
  },
  {
   "cell_type": "code",
   "execution_count": 11,
   "id": "4774acb0",
   "metadata": {},
   "outputs": [
    {
     "data": {
      "text/html": [
       "<div>\n",
       "<style scoped>\n",
       "    .dataframe tbody tr th:only-of-type {\n",
       "        vertical-align: middle;\n",
       "    }\n",
       "\n",
       "    .dataframe tbody tr th {\n",
       "        vertical-align: top;\n",
       "    }\n",
       "\n",
       "    .dataframe thead th {\n",
       "        text-align: right;\n",
       "    }\n",
       "</style>\n",
       "<table border=\"1\" class=\"dataframe\">\n",
       "  <thead>\n",
       "    <tr style=\"text-align: right;\">\n",
       "      <th></th>\n",
       "      <th>pdf_id</th>\n",
       "      <th>pdf_name</th>\n",
       "      <th>avg_embedding</th>\n",
       "    </tr>\n",
       "  </thead>\n",
       "  <tbody>\n",
       "    <tr>\n",
       "      <th>0</th>\n",
       "      <td>0.0</td>\n",
       "      <td>Wi-Fi-6-OFDMA-App-Notes-091319-web.pdf</td>\n",
       "      <td>[0.005739906961521642, 0.015017339155416597, -...</td>\n",
       "    </tr>\n",
       "    <tr>\n",
       "      <th>1</th>\n",
       "      <td>1.0</td>\n",
       "      <td>STBC.pdf</td>\n",
       "      <td>[-0.0063830471824029835, 0.008054226672403136,...</td>\n",
       "    </tr>\n",
       "    <tr>\n",
       "      <th>2</th>\n",
       "      <td>2.0</td>\n",
       "      <td>bose-quietcomfort-35-manual.pdf</td>\n",
       "      <td>[-0.006948804699017533, 0.01815303774284465, 0...</td>\n",
       "    </tr>\n",
       "    <tr>\n",
       "      <th>3</th>\n",
       "      <td>3.0</td>\n",
       "      <td>How to change the country code for WiFi.pdf</td>\n",
       "      <td>[0.007160560227930546, 0.006596100516617298, 0...</td>\n",
       "    </tr>\n",
       "    <tr>\n",
       "      <th>4</th>\n",
       "      <td>4.0</td>\n",
       "      <td>usb3-frequency-interference-papers.pdf</td>\n",
       "      <td>[0.0013100928521122444, -0.002268166643757881,...</td>\n",
       "    </tr>\n",
       "    <tr>\n",
       "      <th>5</th>\n",
       "      <td>5.0</td>\n",
       "      <td>FCC-Rules-and-Regulations.pdf</td>\n",
       "      <td>[0.015633510425686836, 0.0035150612238794565, ...</td>\n",
       "    </tr>\n",
       "    <tr>\n",
       "      <th>6</th>\n",
       "      <td>6.0</td>\n",
       "      <td>programming uci shrinked.pdf</td>\n",
       "      <td>[0.0057224854826927185, 0.023770330473780632, ...</td>\n",
       "    </tr>\n",
       "    <tr>\n",
       "      <th>7</th>\n",
       "      <td>7.0</td>\n",
       "      <td>nor_nand_flash_guide.pdf</td>\n",
       "      <td>[-0.014131480879667733, 0.005583183425996039, ...</td>\n",
       "    </tr>\n",
       "    <tr>\n",
       "      <th>8</th>\n",
       "      <td>8.0</td>\n",
       "      <td>RadioChannelDFS.pdf</td>\n",
       "      <td>[-0.0009311500859136382, 0.008354147983482108,...</td>\n",
       "    </tr>\n",
       "    <tr>\n",
       "      <th>9</th>\n",
       "      <td>9.0</td>\n",
       "      <td>wle3000hx-06162023.pdf</td>\n",
       "      <td>[-0.0071704335665951175, 0.019668764020833705,...</td>\n",
       "    </tr>\n",
       "  </tbody>\n",
       "</table>\n",
       "</div>"
      ],
      "text/plain": [
       "   pdf_id                                     pdf_name  \\\n",
       "0     0.0       Wi-Fi-6-OFDMA-App-Notes-091319-web.pdf   \n",
       "1     1.0                                     STBC.pdf   \n",
       "2     2.0              bose-quietcomfort-35-manual.pdf   \n",
       "3     3.0  How to change the country code for WiFi.pdf   \n",
       "4     4.0       usb3-frequency-interference-papers.pdf   \n",
       "5     5.0                FCC-Rules-and-Regulations.pdf   \n",
       "6     6.0                 programming uci shrinked.pdf   \n",
       "7     7.0                     nor_nand_flash_guide.pdf   \n",
       "8     8.0                          RadioChannelDFS.pdf   \n",
       "9     9.0                       wle3000hx-06162023.pdf   \n",
       "\n",
       "                                       avg_embedding  \n",
       "0  [0.005739906961521642, 0.015017339155416597, -...  \n",
       "1  [-0.0063830471824029835, 0.008054226672403136,...  \n",
       "2  [-0.006948804699017533, 0.01815303774284465, 0...  \n",
       "3  [0.007160560227930546, 0.006596100516617298, 0...  \n",
       "4  [0.0013100928521122444, -0.002268166643757881,...  \n",
       "5  [0.015633510425686836, 0.0035150612238794565, ...  \n",
       "6  [0.0057224854826927185, 0.023770330473780632, ...  \n",
       "7  [-0.014131480879667733, 0.005583183425996039, ...  \n",
       "8  [-0.0009311500859136382, 0.008354147983482108,...  \n",
       "9  [-0.0071704335665951175, 0.019668764020833705,...  "
      ]
     },
     "execution_count": 11,
     "metadata": {},
     "output_type": "execute_result"
    }
   ],
   "source": [
    "pd.read_pickle(\"/Users/houkinwan/Desktop/Compex/ManualGPTApp/Mac/PrototypeMac/Vectors/manual_vectors.csv\")"
   ]
  },
  {
   "cell_type": "code",
   "execution_count": 8,
   "id": "9eceb7f2",
   "metadata": {},
   "outputs": [
    {
     "data": {
      "text/plain": [
       "'STBC.pdf'"
      ]
     },
     "execution_count": 8,
     "metadata": {},
     "output_type": "execute_result"
    }
   ],
   "source": [
    "import json\n",
    "with open(f\"data_json.json\", 'r') as openfile:\n",
    "    data_json = json.load(openfile)\n",
    "data_json[\"stored_pdfs\"].pop(\"1\")"
   ]
  },
  {
   "cell_type": "code",
   "execution_count": 11,
   "id": "6c879ea3",
   "metadata": {},
   "outputs": [
    {
     "data": {
      "text/plain": [
       "False"
      ]
     },
     "execution_count": 11,
     "metadata": {},
     "output_type": "execute_result"
    }
   ],
   "source": [
    "2 in[\"1\",\"2\"]"
   ]
  },
  {
   "cell_type": "code",
   "execution_count": 26,
   "id": "d9edc960",
   "metadata": {},
   "outputs": [
    {
     "data": {
      "text/plain": [
       "'RadioChannelDFS.pdf'"
      ]
     },
     "execution_count": 26,
     "metadata": {},
     "output_type": "execute_result"
    }
   ],
   "source": [
    "with open(f\"data_json.json\", 'r') as openfile:\n",
    "    data_json = json.load(openfile)\n",
    "pdf_name = data_json[\"stored_pdfs\"].pop(str(\"1\"))\n",
    "pdf_name"
   ]
  },
  {
   "cell_type": "code",
   "execution_count": 14,
   "id": "144bb56a",
   "metadata": {},
   "outputs": [],
   "source": [
    "def delete_file(path):\n",
    "    try:\n",
    "        \n",
    "        if os.path.isfile(path) or os.path.islink(path):\n",
    "            os.unlink(path)\n",
    "            print(\"deleted\")\n",
    "        elif os.path.isdir(path):\n",
    "            shutil.rmtree(path)\n",
    "            print(\"deleted\")\n",
    "    except Exception as e:\n",
    "        print('Failed to delete %s. Reason: %s' % (path, e))\n",
    "        return False"
   ]
  },
  {
   "cell_type": "code",
   "execution_count": 16,
   "id": "597984a2",
   "metadata": {},
   "outputs": [
    {
     "data": {
      "text/html": [
       "<div>\n",
       "<style scoped>\n",
       "    .dataframe tbody tr th:only-of-type {\n",
       "        vertical-align: middle;\n",
       "    }\n",
       "\n",
       "    .dataframe tbody tr th {\n",
       "        vertical-align: top;\n",
       "    }\n",
       "\n",
       "    .dataframe thead th {\n",
       "        text-align: right;\n",
       "    }\n",
       "</style>\n",
       "<table border=\"1\" class=\"dataframe\">\n",
       "  <thead>\n",
       "    <tr style=\"text-align: right;\">\n",
       "      <th></th>\n",
       "      <th>pdf_id</th>\n",
       "      <th>pdf_name</th>\n",
       "      <th>avg_embedding</th>\n",
       "    </tr>\n",
       "  </thead>\n",
       "  <tbody>\n",
       "    <tr>\n",
       "      <th>0</th>\n",
       "      <td>0.0</td>\n",
       "      <td>Wi-Fi-6-OFDMA-App-Notes-091319-web.pdf</td>\n",
       "      <td>[0.005753564870577644, 0.014976514291695574, -...</td>\n",
       "    </tr>\n",
       "    <tr>\n",
       "      <th>1</th>\n",
       "      <td>1.0</td>\n",
       "      <td>How to change the country code for WiFi.pdf</td>\n",
       "      <td>[0.007195870531722904, 0.006593257933855057, 0...</td>\n",
       "    </tr>\n",
       "  </tbody>\n",
       "</table>\n",
       "</div>"
      ],
      "text/plain": [
       "   pdf_id                                     pdf_name  \\\n",
       "0     0.0       Wi-Fi-6-OFDMA-App-Notes-091319-web.pdf   \n",
       "1     1.0  How to change the country code for WiFi.pdf   \n",
       "\n",
       "                                       avg_embedding  \n",
       "0  [0.005753564870577644, 0.014976514291695574, -...  \n",
       "1  [0.007195870531722904, 0.006593257933855057, 0...  "
      ]
     },
     "execution_count": 16,
     "metadata": {},
     "output_type": "execute_result"
    }
   ],
   "source": [
    "pd.read_pickle(f'vectors/manual_vectors.csv')"
   ]
  },
  {
   "cell_type": "code",
   "execution_count": 15,
   "id": "1b092b7f",
   "metadata": {},
   "outputs": [
    {
     "name": "stdout",
     "output_type": "stream",
     "text": [
      "deleted\n"
     ]
    }
   ],
   "source": [
    "delete_file(\"/Users/houkinwan/Desktop/Compex/ManualGPTApp/Mac/PrototypeMac/Vectors/PageVDs/2.csv\")"
   ]
  }
 ],
 "metadata": {
  "kernelspec": {
   "display_name": "Python 3 (ipykernel)",
   "language": "python",
   "name": "python3"
  },
  "language_info": {
   "codemirror_mode": {
    "name": "ipython",
    "version": 3
   },
   "file_extension": ".py",
   "mimetype": "text/x-python",
   "name": "python",
   "nbconvert_exporter": "python",
   "pygments_lexer": "ipython3",
   "version": "3.9.13"
  }
 },
 "nbformat": 4,
 "nbformat_minor": 5
}
